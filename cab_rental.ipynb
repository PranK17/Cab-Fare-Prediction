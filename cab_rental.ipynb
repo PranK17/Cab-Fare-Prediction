{
 "cells": [
  {
   "cell_type": "code",
   "execution_count": 1,
   "metadata": {},
   "outputs": [],
   "source": [
    "#Load libraries\n",
    "import os\n",
    "import pandas as pd\n",
    "import numpy as np\n",
    "#from fancyimpute import KNN\n",
    "import matplotlib.pyplot as plt\n",
    "import seaborn  as sns\n",
    "import re\n",
    "from sklearn.metrics import mean_squared_error\n",
    "from math import sqrt\n",
    "from sklearn.model_selection import train_test_split\n",
    "#import ggplot as gg\n",
    "from sklearn.tree import DecisionTreeRegressor\n",
    "from sklearn import tree\n",
    "#from collections import Counter"
   ]
  },
  {
   "cell_type": "code",
   "execution_count": 2,
   "metadata": {},
   "outputs": [
    {
     "data": {
      "text/plain": [
       "['.ipynb_checkpoints',\n",
       " '.RData',\n",
       " '.Rhistory',\n",
       " 'Bar graph is used to identify the frequency of categorical variable.docx',\n",
       " 'Correlation_plot.png',\n",
       " 'date.PNG',\n",
       " 'dayvsfare.png',\n",
       " 'decision.PNG',\n",
       " 'decision_tree.PNG',\n",
       " 'distance_fare.png',\n",
       " 'dropoff_latitudeVSfare.png',\n",
       " 'dropoff_latitude_frequency.png',\n",
       " 'dropoff_longitudeVsfare.png',\n",
       " 'dropoff_longitude_frequency.png',\n",
       " 'fare_amount vs hour.png',\n",
       " 'fare_amount vs year.png',\n",
       " 'fare_amount_frequency.png',\n",
       " 'frequency_distance.png',\n",
       " 'Linear.PNG',\n",
       " 'linear_regression.PNG',\n",
       " 'mape.PNG',\n",
       " 'missing_percantage.PNG',\n",
       " 'month_vs_fare.png',\n",
       " 'mycode.ipynb',\n",
       " 'Mycode.R',\n",
       " 'mycodeinR.txt',\n",
       " 'outlier_analysis1.PNG',\n",
       " 'outlier_analysis2.PNG',\n",
       " 'outlier_analysis3.PNG',\n",
       " 'outlier_analysis4.PNG',\n",
       " 'outlier_analysis5.PNG',\n",
       " 'outlier_analysis6.PNG',\n",
       " 'passenger_count_frequency.png',\n",
       " 'passenger_fare.png',\n",
       " 'pickup_latitude_frequency.png',\n",
       " 'pickup_latVSfare.png',\n",
       " 'pickup_longitude_frequecy.png',\n",
       " 'pickup_longVsFare.png',\n",
       " 'Project Name.docx',\n",
       " 'random-forest.PNG',\n",
       " 'random.PNG',\n",
       " 'submission.csv',\n",
       " 'submissionr.csv',\n",
       " 'test.csv',\n",
       " 'test_data.PNG',\n",
       " 'train_cab.csv',\n",
       " 'train_data.PNG',\n",
       " 'Untitled.ipynb',\n",
       " '~$oject Name.docx',\n",
       " '~$r graph is used to identify the frequency of categorical variable.docx']"
      ]
     },
     "execution_count": 2,
     "metadata": {},
     "output_type": "execute_result"
    }
   ],
   "source": [
    "#saving directories\n",
    "os.listdir(\"../data\")"
   ]
  },
  {
   "cell_type": "code",
   "execution_count": 3,
   "metadata": {},
   "outputs": [
    {
     "data": {
      "text/html": [
       "<div>\n",
       "<style scoped>\n",
       "    .dataframe tbody tr th:only-of-type {\n",
       "        vertical-align: middle;\n",
       "    }\n",
       "\n",
       "    .dataframe tbody tr th {\n",
       "        vertical-align: top;\n",
       "    }\n",
       "\n",
       "    .dataframe thead th {\n",
       "        text-align: right;\n",
       "    }\n",
       "</style>\n",
       "<table border=\"1\" class=\"dataframe\">\n",
       "  <thead>\n",
       "    <tr style=\"text-align: right;\">\n",
       "      <th></th>\n",
       "      <th>fare_amount</th>\n",
       "      <th>pickup_datetime</th>\n",
       "      <th>pickup_longitude</th>\n",
       "      <th>pickup_latitude</th>\n",
       "      <th>dropoff_longitude</th>\n",
       "      <th>dropoff_latitude</th>\n",
       "      <th>passenger_count</th>\n",
       "    </tr>\n",
       "  </thead>\n",
       "  <tbody>\n",
       "    <tr>\n",
       "      <th>0</th>\n",
       "      <td>4.5</td>\n",
       "      <td>2009-06-15 17:26:21 UTC</td>\n",
       "      <td>-73.844311</td>\n",
       "      <td>40.721319</td>\n",
       "      <td>-73.841610</td>\n",
       "      <td>40.712278</td>\n",
       "      <td>1.0</td>\n",
       "    </tr>\n",
       "    <tr>\n",
       "      <th>1</th>\n",
       "      <td>16.9</td>\n",
       "      <td>2010-01-05 16:52:16 UTC</td>\n",
       "      <td>-74.016048</td>\n",
       "      <td>40.711303</td>\n",
       "      <td>-73.979268</td>\n",
       "      <td>40.782004</td>\n",
       "      <td>1.0</td>\n",
       "    </tr>\n",
       "    <tr>\n",
       "      <th>2</th>\n",
       "      <td>5.7</td>\n",
       "      <td>2011-08-18 00:35:00 UTC</td>\n",
       "      <td>-73.982738</td>\n",
       "      <td>40.761270</td>\n",
       "      <td>-73.991242</td>\n",
       "      <td>40.750562</td>\n",
       "      <td>2.0</td>\n",
       "    </tr>\n",
       "    <tr>\n",
       "      <th>3</th>\n",
       "      <td>7.7</td>\n",
       "      <td>2012-04-21 04:30:42 UTC</td>\n",
       "      <td>-73.987130</td>\n",
       "      <td>40.733143</td>\n",
       "      <td>-73.991567</td>\n",
       "      <td>40.758092</td>\n",
       "      <td>1.0</td>\n",
       "    </tr>\n",
       "    <tr>\n",
       "      <th>4</th>\n",
       "      <td>5.3</td>\n",
       "      <td>2010-03-09 07:51:00 UTC</td>\n",
       "      <td>-73.968095</td>\n",
       "      <td>40.768008</td>\n",
       "      <td>-73.956655</td>\n",
       "      <td>40.783762</td>\n",
       "      <td>1.0</td>\n",
       "    </tr>\n",
       "  </tbody>\n",
       "</table>\n",
       "</div>"
      ],
      "text/plain": [
       "  fare_amount          pickup_datetime  pickup_longitude  pickup_latitude  \\\n",
       "0         4.5  2009-06-15 17:26:21 UTC        -73.844311        40.721319   \n",
       "1        16.9  2010-01-05 16:52:16 UTC        -74.016048        40.711303   \n",
       "2         5.7  2011-08-18 00:35:00 UTC        -73.982738        40.761270   \n",
       "3         7.7  2012-04-21 04:30:42 UTC        -73.987130        40.733143   \n",
       "4         5.3  2010-03-09 07:51:00 UTC        -73.968095        40.768008   \n",
       "\n",
       "   dropoff_longitude  dropoff_latitude  passenger_count  \n",
       "0         -73.841610         40.712278              1.0  \n",
       "1         -73.979268         40.782004              1.0  \n",
       "2         -73.991242         40.750562              2.0  \n",
       "3         -73.991567         40.758092              1.0  \n",
       "4         -73.956655         40.783762              1.0  "
      ]
     },
     "execution_count": 3,
     "metadata": {},
     "output_type": "execute_result"
    }
   ],
   "source": [
    "#load data\n",
    "cab_train=pd.read_csv(\"train_cab.csv\")\n",
    "cab_test=pd.read_csv(\"test.csv\")\n",
    "cab_train.head()"
   ]
  },
  {
   "cell_type": "code",
   "execution_count": 4,
   "metadata": {},
   "outputs": [
    {
     "data": {
      "text/html": [
       "<div>\n",
       "<style scoped>\n",
       "    .dataframe tbody tr th:only-of-type {\n",
       "        vertical-align: middle;\n",
       "    }\n",
       "\n",
       "    .dataframe tbody tr th {\n",
       "        vertical-align: top;\n",
       "    }\n",
       "\n",
       "    .dataframe thead th {\n",
       "        text-align: right;\n",
       "    }\n",
       "</style>\n",
       "<table border=\"1\" class=\"dataframe\">\n",
       "  <thead>\n",
       "    <tr style=\"text-align: right;\">\n",
       "      <th></th>\n",
       "      <th>pickup_datetime</th>\n",
       "      <th>pickup_longitude</th>\n",
       "      <th>pickup_latitude</th>\n",
       "      <th>dropoff_longitude</th>\n",
       "      <th>dropoff_latitude</th>\n",
       "      <th>passenger_count</th>\n",
       "    </tr>\n",
       "  </thead>\n",
       "  <tbody>\n",
       "    <tr>\n",
       "      <th>0</th>\n",
       "      <td>2015-01-27 13:08:24 UTC</td>\n",
       "      <td>-73.973320</td>\n",
       "      <td>40.763805</td>\n",
       "      <td>-73.981430</td>\n",
       "      <td>40.743835</td>\n",
       "      <td>1</td>\n",
       "    </tr>\n",
       "    <tr>\n",
       "      <th>1</th>\n",
       "      <td>2015-01-27 13:08:24 UTC</td>\n",
       "      <td>-73.986862</td>\n",
       "      <td>40.719383</td>\n",
       "      <td>-73.998886</td>\n",
       "      <td>40.739201</td>\n",
       "      <td>1</td>\n",
       "    </tr>\n",
       "    <tr>\n",
       "      <th>2</th>\n",
       "      <td>2011-10-08 11:53:44 UTC</td>\n",
       "      <td>-73.982524</td>\n",
       "      <td>40.751260</td>\n",
       "      <td>-73.979654</td>\n",
       "      <td>40.746139</td>\n",
       "      <td>1</td>\n",
       "    </tr>\n",
       "    <tr>\n",
       "      <th>3</th>\n",
       "      <td>2012-12-01 21:12:12 UTC</td>\n",
       "      <td>-73.981160</td>\n",
       "      <td>40.767807</td>\n",
       "      <td>-73.990448</td>\n",
       "      <td>40.751635</td>\n",
       "      <td>1</td>\n",
       "    </tr>\n",
       "    <tr>\n",
       "      <th>4</th>\n",
       "      <td>2012-12-01 21:12:12 UTC</td>\n",
       "      <td>-73.966046</td>\n",
       "      <td>40.789775</td>\n",
       "      <td>-73.988565</td>\n",
       "      <td>40.744427</td>\n",
       "      <td>1</td>\n",
       "    </tr>\n",
       "  </tbody>\n",
       "</table>\n",
       "</div>"
      ],
      "text/plain": [
       "           pickup_datetime  pickup_longitude  pickup_latitude  \\\n",
       "0  2015-01-27 13:08:24 UTC        -73.973320        40.763805   \n",
       "1  2015-01-27 13:08:24 UTC        -73.986862        40.719383   \n",
       "2  2011-10-08 11:53:44 UTC        -73.982524        40.751260   \n",
       "3  2012-12-01 21:12:12 UTC        -73.981160        40.767807   \n",
       "4  2012-12-01 21:12:12 UTC        -73.966046        40.789775   \n",
       "\n",
       "   dropoff_longitude  dropoff_latitude  passenger_count  \n",
       "0         -73.981430         40.743835                1  \n",
       "1         -73.998886         40.739201                1  \n",
       "2         -73.979654         40.746139                1  \n",
       "3         -73.990448         40.751635                1  \n",
       "4         -73.988565         40.744427                1  "
      ]
     },
     "execution_count": 4,
     "metadata": {},
     "output_type": "execute_result"
    }
   ],
   "source": [
    "cab_test.head()"
   ]
  },
  {
   "cell_type": "code",
   "execution_count": 5,
   "metadata": {},
   "outputs": [
    {
     "data": {
      "text/plain": [
       "fare_amount           object\n",
       "pickup_datetime       object\n",
       "pickup_longitude     float64\n",
       "pickup_latitude      float64\n",
       "dropoff_longitude    float64\n",
       "dropoff_latitude     float64\n",
       "passenger_count      float64\n",
       "dtype: object"
      ]
     },
     "execution_count": 5,
     "metadata": {},
     "output_type": "execute_result"
    }
   ],
   "source": [
    "#fare_amount           object\n",
    "#pickup_datetime       object\n",
    "#pickup_longitude     float64\n",
    "#pickup_latitude      float64\n",
    "#dropoff_longitude    float64\n",
    "#dropoff_latitude     float64\n",
    "#passenger_count      float64\n",
    "cab_train.dtypes"
   ]
  },
  {
   "cell_type": "code",
   "execution_count": 6,
   "metadata": {},
   "outputs": [
    {
     "data": {
      "text/plain": [
       "fare_amount          float64\n",
       "pickup_datetime       object\n",
       "pickup_longitude     float64\n",
       "pickup_latitude      float64\n",
       "dropoff_longitude    float64\n",
       "dropoff_latitude     float64\n",
       "passenger_count      float64\n",
       "dtype: object"
      ]
     },
     "execution_count": 6,
     "metadata": {},
     "output_type": "execute_result"
    }
   ],
   "source": [
    "#convert fare_amount from categorical to numerical\n",
    "cab_train[\"fare_amount\"] = pd.to_numeric(cab_train[\"fare_amount\"],errors='coerce')\n",
    "cab_train.dtypes"
   ]
  },
  {
   "cell_type": "code",
   "execution_count": 7,
   "metadata": {},
   "outputs": [],
   "source": [
    "########Missing value analyis__________________________________________________________________________\n",
    "missing_val=pd.DataFrame(cab_train.isnull().sum())\n",
    "#reset index\n",
    "missing_val=missing_val.reset_index()\n",
    "#renaming\n",
    "missing_val=missing_val.rename(columns={'index':'variables',0:'Missing_percentage'})\n",
    "#calculate percentage\n",
    "missing_val['Missing_percentage']=(missing_val['Missing_percentage']/len(cab_train))*100\n",
    "#put in order\n",
    "missing_val=missing_val.sort_values('Missing_percentage',ascending=False).reset_index(drop=True)"
   ]
  },
  {
   "cell_type": "code",
   "execution_count": 8,
   "metadata": {},
   "outputs": [
    {
     "data": {
      "text/plain": [
       "6.0"
      ]
     },
     "execution_count": 8,
     "metadata": {},
     "output_type": "execute_result"
    }
   ],
   "source": [
    "#imputation Method\n",
    "cab_train['passenger_count'].loc[38]\n",
    "#cab_train['passenger_count'].loc[38]=np.nan\n",
    "#mean 2.6248591593279618\n",
    "#median 1\n",
    "#KNN 1.4\n"
   ]
  },
  {
   "cell_type": "code",
   "execution_count": 9,
   "metadata": {},
   "outputs": [
    {
     "data": {
      "text/plain": [
       "fare_amount          25\n",
       "pickup_datetime       0\n",
       "pickup_longitude      0\n",
       "pickup_latitude       0\n",
       "dropoff_longitude     0\n",
       "dropoff_latitude      0\n",
       "passenger_count      55\n",
       "dtype: int64"
      ]
     },
     "execution_count": 9,
     "metadata": {},
     "output_type": "execute_result"
    }
   ],
   "source": [
    "#mean\n",
    "#cab_train['passenger_count']=cab_train['passenger_count'].fillna(cab_train['passenger_count'].mean())\n",
    "#median\n",
    "#cab_train['passenger_count']=cab_train['passenger_count'].fillna(cab_train['passenger_count'].median())\n",
    "#Apply KNN imputation algorithm\n",
    "#marketing_train = pd.DataFrame(KNN(k = 3).complete(marketing_train), columns = marketing_train.columns)\n",
    "\n",
    "cab_train.isnull().sum()\n"
   ]
  },
  {
   "cell_type": "code",
   "execution_count": 10,
   "metadata": {},
   "outputs": [],
   "source": [
    "#remove null values\n",
    "cab_train=cab_train.dropna()"
   ]
  },
  {
   "cell_type": "code",
   "execution_count": 11,
   "metadata": {},
   "outputs": [
    {
     "data": {
      "text/plain": [
       "(15987, 7)"
      ]
     },
     "execution_count": 11,
     "metadata": {},
     "output_type": "execute_result"
    }
   ],
   "source": [
    "cab_train.shape\n"
   ]
  },
  {
   "cell_type": "code",
   "execution_count": 12,
   "metadata": {},
   "outputs": [
    {
     "data": {
      "text/html": [
       "<div>\n",
       "<style scoped>\n",
       "    .dataframe tbody tr th:only-of-type {\n",
       "        vertical-align: middle;\n",
       "    }\n",
       "\n",
       "    .dataframe tbody tr th {\n",
       "        vertical-align: top;\n",
       "    }\n",
       "\n",
       "    .dataframe thead th {\n",
       "        text-align: right;\n",
       "    }\n",
       "</style>\n",
       "<table border=\"1\" class=\"dataframe\">\n",
       "  <thead>\n",
       "    <tr style=\"text-align: right;\">\n",
       "      <th></th>\n",
       "      <th>fare_amount</th>\n",
       "      <th>pickup_longitude</th>\n",
       "      <th>pickup_latitude</th>\n",
       "      <th>dropoff_longitude</th>\n",
       "      <th>dropoff_latitude</th>\n",
       "      <th>passenger_count</th>\n",
       "    </tr>\n",
       "  </thead>\n",
       "  <tbody>\n",
       "    <tr>\n",
       "      <th>count</th>\n",
       "      <td>15987.000000</td>\n",
       "      <td>15987.000000</td>\n",
       "      <td>15987.000000</td>\n",
       "      <td>15987.000000</td>\n",
       "      <td>15987.000000</td>\n",
       "      <td>15987.000000</td>\n",
       "    </tr>\n",
       "    <tr>\n",
       "      <th>mean</th>\n",
       "      <td>15.030232</td>\n",
       "      <td>-72.464447</td>\n",
       "      <td>39.915627</td>\n",
       "      <td>-72.464005</td>\n",
       "      <td>39.898725</td>\n",
       "      <td>2.623170</td>\n",
       "    </tr>\n",
       "    <tr>\n",
       "      <th>std</th>\n",
       "      <td>431.200458</td>\n",
       "      <td>10.573270</td>\n",
       "      <td>6.828818</td>\n",
       "      <td>10.569932</td>\n",
       "      <td>6.186185</td>\n",
       "      <td>60.890237</td>\n",
       "    </tr>\n",
       "    <tr>\n",
       "      <th>min</th>\n",
       "      <td>-3.000000</td>\n",
       "      <td>-74.438233</td>\n",
       "      <td>-74.006893</td>\n",
       "      <td>-74.429332</td>\n",
       "      <td>-74.006377</td>\n",
       "      <td>0.000000</td>\n",
       "    </tr>\n",
       "    <tr>\n",
       "      <th>25%</th>\n",
       "      <td>6.000000</td>\n",
       "      <td>-73.992143</td>\n",
       "      <td>40.734927</td>\n",
       "      <td>-73.991182</td>\n",
       "      <td>40.734651</td>\n",
       "      <td>1.000000</td>\n",
       "    </tr>\n",
       "    <tr>\n",
       "      <th>50%</th>\n",
       "      <td>8.500000</td>\n",
       "      <td>-73.981693</td>\n",
       "      <td>40.752603</td>\n",
       "      <td>-73.980168</td>\n",
       "      <td>40.753557</td>\n",
       "      <td>1.000000</td>\n",
       "    </tr>\n",
       "    <tr>\n",
       "      <th>75%</th>\n",
       "      <td>12.500000</td>\n",
       "      <td>-73.966819</td>\n",
       "      <td>40.767353</td>\n",
       "      <td>-73.963644</td>\n",
       "      <td>40.768005</td>\n",
       "      <td>2.000000</td>\n",
       "    </tr>\n",
       "    <tr>\n",
       "      <th>max</th>\n",
       "      <td>54343.000000</td>\n",
       "      <td>40.766125</td>\n",
       "      <td>401.083332</td>\n",
       "      <td>40.802437</td>\n",
       "      <td>41.366138</td>\n",
       "      <td>5345.000000</td>\n",
       "    </tr>\n",
       "  </tbody>\n",
       "</table>\n",
       "</div>"
      ],
      "text/plain": [
       "        fare_amount  pickup_longitude  pickup_latitude  dropoff_longitude  \\\n",
       "count  15987.000000      15987.000000     15987.000000       15987.000000   \n",
       "mean      15.030232        -72.464447        39.915627         -72.464005   \n",
       "std      431.200458         10.573270         6.828818          10.569932   \n",
       "min       -3.000000        -74.438233       -74.006893         -74.429332   \n",
       "25%        6.000000        -73.992143        40.734927         -73.991182   \n",
       "50%        8.500000        -73.981693        40.752603         -73.980168   \n",
       "75%       12.500000        -73.966819        40.767353         -73.963644   \n",
       "max    54343.000000         40.766125       401.083332          40.802437   \n",
       "\n",
       "       dropoff_latitude  passenger_count  \n",
       "count      15987.000000     15987.000000  \n",
       "mean          39.898725         2.623170  \n",
       "std            6.186185        60.890237  \n",
       "min          -74.006377         0.000000  \n",
       "25%           40.734651         1.000000  \n",
       "50%           40.753557         1.000000  \n",
       "75%           40.768005         2.000000  \n",
       "max           41.366138      5345.000000  "
      ]
     },
     "execution_count": 12,
     "metadata": {},
     "output_type": "execute_result"
    }
   ],
   "source": [
    "##Latitude range -90 to 90\n",
    "cab_train.describe()#max 401"
   ]
  },
  {
   "cell_type": "code",
   "execution_count": 13,
   "metadata": {},
   "outputs": [
    {
     "name": "stderr",
     "output_type": "stream",
     "text": [
      "C:\\Users\\PranjalJain\\Anaconda3\\lib\\site-packages\\pandas\\core\\indexing.py:190: SettingWithCopyWarning: \n",
      "A value is trying to be set on a copy of a slice from a DataFrame\n",
      "\n",
      "See the caveats in the documentation: http://pandas.pydata.org/pandas-docs/stable/indexing.html#indexing-view-versus-copy\n",
      "  self._setitem_with_indexer(indexer, value)\n"
     ]
    }
   ],
   "source": [
    "## The fare amount column is having some negative values or zero,\n",
    "for i in range(0, len(cab_train)):\n",
    "    if(cab_train['fare_amount'].iloc[i]<=0):\n",
    "        cab_train['fare_amount'].iloc[i]=np.nan\n",
    "        #passenger_count must be between 1 and 6\n",
    "    if(cab_train['passenger_count'].iloc[i]>6 or cab_train['passenger_count'].iloc[i]<1):\n",
    "        cab_train['passenger_count'].iloc[i]=np.nan\n",
    "        #Pickup latitude range -90 to 90\n",
    "    if(cab_train['pickup_latitude'].iloc[i]<(-90) or cab_train['pickup_latitude'].iloc[i]>90):\n",
    "        cab_train['pickup_latitude'].iloc[i]=np.nan\n",
    "cab_train.isnull().sum()\n",
    "cab_train=cab_train.dropna() "
   ]
  },
  {
   "cell_type": "code",
   "execution_count": 14,
   "metadata": {},
   "outputs": [],
   "source": [
    "def convert_datetime(df):\n",
    "    df[\"pickup_datetime\"] = df[\"pickup_datetime\"].map(lambda x: str(x)[:-3])\n",
    "    df[\"year\"] = df[\"pickup_datetime\"].map(lambda x: x[0:4])\n",
    "    df[\"month\"] =df[\"pickup_datetime\"].map(lambda x: x[5:7])\n",
    "    df[\"date\"] = df[\"pickup_datetime\"].map(lambda x: x[8:10])\n",
    "    df[\"hour\"] = df[\"pickup_datetime\"].map(lambda x: x[11:13])\n",
    "    df[\"pickup_datetime\"] = pd.to_datetime(df[\"pickup_datetime\"], format='%Y-%m-%d')\n",
    "    #df['weekday'] = df.pickup_datetime.dt.weekday\n",
    "    df['weekday']=df[\"pickup_datetime\"].dt.weekday_name\n",
    "convert_datetime(cab_train)"
   ]
  },
  {
   "cell_type": "code",
   "execution_count": 15,
   "metadata": {},
   "outputs": [],
   "source": [
    "cab_train=cab_train.drop(['pickup_datetime'],axis=1)"
   ]
  },
  {
   "cell_type": "code",
   "execution_count": 16,
   "metadata": {},
   "outputs": [
    {
     "data": {
      "text/plain": [
       "(15905, 11)"
      ]
     },
     "execution_count": 16,
     "metadata": {},
     "output_type": "execute_result"
    }
   ],
   "source": [
    "cab_train.shape"
   ]
  },
  {
   "cell_type": "code",
   "execution_count": 17,
   "metadata": {},
   "outputs": [],
   "source": [
    "########Missing value analyis__________________________________________________________________________\n",
    "missing_val=pd.DataFrame(cab_train.isnull().sum())\n",
    "#reset index\n",
    "missing_val=missing_val.reset_index()\n",
    "#renaming\n",
    "missing_val=missing_val.rename(columns={'index':'variables',0:'Missing_percentage'})\n",
    "cab_train=cab_train.dropna()"
   ]
  },
  {
   "cell_type": "code",
   "execution_count": 18,
   "metadata": {},
   "outputs": [],
   "source": [
    "#outlier Analysis_________________________________________\n",
    "df=cab_train.copy()\n",
    "#cab_train = df.copy()\n",
    "#save numeric names\n",
    "cnames =  [\"fare_amount\", \"pickup_longitude\", \"pickup_latitude\", \"dropoff_longitude\", \"dropoff_latitude\"]"
   ]
  },
  {
   "cell_type": "code",
   "execution_count": 19,
   "metadata": {},
   "outputs": [
    {
     "data": {
      "image/png": "[encoded data removed]",
      "text/plain": [
       "<Figure size 432x288 with 24 Axes>"
      ]
     },
     "metadata": {
      "needs_background": "light"
     },
     "output_type": "display_data"
    }
   ],
   "source": [
    "#Check for outliers until they are completely removed from the code\n",
    "\n",
    "cab_train.plot(kind='box', subplots=True, layout=(8,3), sharex=False, sharey=False, fontsize=8)\n",
    "plt.subplots_adjust(left=0.125, bottom=0.1, right=0.9, top= 3,wspace=0.2, hspace=0.2)\n",
    "plt.show()"
   ]
  },
  {
   "cell_type": "code",
   "execution_count": 20,
   "metadata": {},
   "outputs": [
    {
     "name": "stdout",
     "output_type": "stream",
     "text": [
      "(15904, 11)\n",
      "(13148, 11)\n",
      "(12555, 11)\n",
      "(12336, 11)\n",
      "(12221, 11)\n",
      "(12219, 11)\n"
     ]
    }
   ],
   "source": [
    " # #Detect and delete outliers from data\n",
    "for i in range(0,6):\n",
    "    print(cab_train.shape)\n",
    "    for i in cnames:    \n",
    "        q75, q25 = np.percentile(cab_train.loc[:,i], [75 ,25])\n",
    "        iqr = q75 - q25\n",
    "        min = q25 - (iqr*1.5)\n",
    "        max = q75 + (iqr*1.5)\n",
    "        cab_train = cab_train.drop(cab_train[cab_train.loc[:,i] < min].index)\n",
    "        cab_train = cab_train.drop(cab_train[cab_train.loc[:,i] > max].index)\n",
    "    #Detect and delete outliers for passenger_count min should be 1 max should be 6\n",
    "    q75, q25 = np.percentile(cab_train['passenger_count'], [75 ,25])\n",
    "    iqr = q75 - q25\n",
    "\n",
    "    min = q25 - (iqr*1.5)\n",
    "    max = q75 + (iqr*1.5)\n",
    "    cab_train = cab_train.drop(cab_train[cab_train['passenger_count']< 1].index)\n",
    "    cab_train = cab_train.drop(cab_train[cab_train['passenger_count']> 6].index)\n",
    "    cab_train.shape"
   ]
  },
  {
   "cell_type": "code",
   "execution_count": 21,
   "metadata": {},
   "outputs": [
    {
     "data": {
      "text/html": [
       "<div>\n",
       "<style scoped>\n",
       "    .dataframe tbody tr th:only-of-type {\n",
       "        vertical-align: middle;\n",
       "    }\n",
       "\n",
       "    .dataframe tbody tr th {\n",
       "        vertical-align: top;\n",
       "    }\n",
       "\n",
       "    .dataframe thead th {\n",
       "        text-align: right;\n",
       "    }\n",
       "</style>\n",
       "<table border=\"1\" class=\"dataframe\">\n",
       "  <thead>\n",
       "    <tr style=\"text-align: right;\">\n",
       "      <th></th>\n",
       "      <th>fare_amount</th>\n",
       "      <th>pickup_longitude</th>\n",
       "      <th>pickup_latitude</th>\n",
       "      <th>dropoff_longitude</th>\n",
       "      <th>dropoff_latitude</th>\n",
       "      <th>passenger_count</th>\n",
       "    </tr>\n",
       "  </thead>\n",
       "  <tbody>\n",
       "    <tr>\n",
       "      <th>count</th>\n",
       "      <td>12219.000000</td>\n",
       "      <td>12219.000000</td>\n",
       "      <td>12219.000000</td>\n",
       "      <td>12219.000000</td>\n",
       "      <td>12219.000000</td>\n",
       "      <td>12219.000000</td>\n",
       "    </tr>\n",
       "    <tr>\n",
       "      <th>mean</th>\n",
       "      <td>7.967366</td>\n",
       "      <td>-73.981964</td>\n",
       "      <td>40.753005</td>\n",
       "      <td>-73.981389</td>\n",
       "      <td>40.753382</td>\n",
       "      <td>1.648989</td>\n",
       "    </tr>\n",
       "    <tr>\n",
       "      <th>std</th>\n",
       "      <td>3.017323</td>\n",
       "      <td>0.015605</td>\n",
       "      <td>0.020256</td>\n",
       "      <td>0.015911</td>\n",
       "      <td>0.020795</td>\n",
       "      <td>1.267520</td>\n",
       "    </tr>\n",
       "    <tr>\n",
       "      <th>min</th>\n",
       "      <td>2.500000</td>\n",
       "      <td>-74.018108</td>\n",
       "      <td>40.699363</td>\n",
       "      <td>-74.019535</td>\n",
       "      <td>40.698502</td>\n",
       "      <td>1.000000</td>\n",
       "    </tr>\n",
       "    <tr>\n",
       "      <th>25%</th>\n",
       "      <td>5.500000</td>\n",
       "      <td>-73.992696</td>\n",
       "      <td>40.739151</td>\n",
       "      <td>-73.992034</td>\n",
       "      <td>40.739429</td>\n",
       "      <td>1.000000</td>\n",
       "    </tr>\n",
       "    <tr>\n",
       "      <th>50%</th>\n",
       "      <td>7.500000</td>\n",
       "      <td>-73.982722</td>\n",
       "      <td>40.753609</td>\n",
       "      <td>-73.982202</td>\n",
       "      <td>40.754512</td>\n",
       "      <td>1.000000</td>\n",
       "    </tr>\n",
       "    <tr>\n",
       "      <th>75%</th>\n",
       "      <td>10.000000</td>\n",
       "      <td>-73.971843</td>\n",
       "      <td>40.766438</td>\n",
       "      <td>-73.971480</td>\n",
       "      <td>40.766790</td>\n",
       "      <td>2.000000</td>\n",
       "    </tr>\n",
       "    <tr>\n",
       "      <th>max</th>\n",
       "      <td>16.200000</td>\n",
       "      <td>-73.940567</td>\n",
       "      <td>40.807297</td>\n",
       "      <td>-73.940792</td>\n",
       "      <td>40.807827</td>\n",
       "      <td>6.000000</td>\n",
       "    </tr>\n",
       "  </tbody>\n",
       "</table>\n",
       "</div>"
      ],
      "text/plain": [
       "        fare_amount  pickup_longitude  pickup_latitude  dropoff_longitude  \\\n",
       "count  12219.000000      12219.000000     12219.000000       12219.000000   \n",
       "mean       7.967366        -73.981964        40.753005         -73.981389   \n",
       "std        3.017323          0.015605         0.020256           0.015911   \n",
       "min        2.500000        -74.018108        40.699363         -74.019535   \n",
       "25%        5.500000        -73.992696        40.739151         -73.992034   \n",
       "50%        7.500000        -73.982722        40.753609         -73.982202   \n",
       "75%       10.000000        -73.971843        40.766438         -73.971480   \n",
       "max       16.200000        -73.940567        40.807297         -73.940792   \n",
       "\n",
       "       dropoff_latitude  passenger_count  \n",
       "count      12219.000000     12219.000000  \n",
       "mean          40.753382         1.648989  \n",
       "std            0.020795         1.267520  \n",
       "min           40.698502         1.000000  \n",
       "25%           40.739429         1.000000  \n",
       "50%           40.754512         1.000000  \n",
       "75%           40.766790         2.000000  \n",
       "max           40.807827         6.000000  "
      ]
     },
     "execution_count": 21,
     "metadata": {},
     "output_type": "execute_result"
    }
   ],
   "source": [
    "cab_train.describe()"
   ]
  },
  {
   "cell_type": "code",
   "execution_count": 22,
   "metadata": {},
   "outputs": [
    {
     "data": {
      "text/plain": [
       "Text(0, 0.5, 'Frequency')"
      ]
     },
     "execution_count": 22,
     "metadata": {},
     "output_type": "execute_result"
    },
    {
     "data": {
      "image/png": "[encoded data removed]",
      "text/plain": [
       "<Figure size 504x504 with 1 Axes>"
      ]
     },
     "metadata": {
      "needs_background": "light"
     },
     "output_type": "display_data"
    }
   ],
   "source": [
    "#Histogram Plot of passenger_count Column\n",
    "plt.figure(figsize=(7,7))\n",
    "plt.hist(cab_train['passenger_count'],bins=6)\n",
    "plt.xlabel('No. of Passengers')\n",
    "plt.ylabel('Frequency')\n"
   ]
  },
  {
   "cell_type": "code",
   "execution_count": 23,
   "metadata": {},
   "outputs": [
    {
     "data": {
      "text/plain": [
       "Text(0, 0.5, 'Frequency')"
      ]
     },
     "execution_count": 23,
     "metadata": {},
     "output_type": "execute_result"
    },
    {
     "data": {
      "image/png": "[encoded data removed]",
      "text/plain": [
       "<Figure size 504x504 with 1 Axes>"
      ]
     },
     "metadata": {
      "needs_background": "light"
     },
     "output_type": "display_data"
    }
   ],
   "source": [
    "#Histogram Plot of fareamount Column\n",
    "plt.figure(figsize=(7,7))\n",
    "plt.hist(cab_train['fare_amount'])\n",
    "plt.xlabel('Different amount of Fare')\n",
    "plt.ylabel('Frequency')\n"
   ]
  },
  {
   "cell_type": "code",
   "execution_count": 24,
   "metadata": {},
   "outputs": [
    {
     "data": {
      "text/plain": [
       "Text(0, 0.5, 'Frequency')"
      ]
     },
     "execution_count": 24,
     "metadata": {},
     "output_type": "execute_result"
    },
    {
     "data": {
      "image/png": "[encoded data removed]",
      "text/plain": [
       "<Figure size 504x504 with 1 Axes>"
      ]
     },
     "metadata": {
      "needs_background": "light"
     },
     "output_type": "display_data"
    }
   ],
   "source": [
    "#Histogram Plot of pickup_latitude Column\n",
    "plt.figure(figsize=(7,7))\n",
    "plt.hist(cab_train['pickup_latitude'],bins=25)\n",
    "plt.xlabel('pickup_latitude')\n",
    "plt.ylabel('Frequency')"
   ]
  },
  {
   "cell_type": "code",
   "execution_count": 25,
   "metadata": {},
   "outputs": [
    {
     "data": {
      "text/plain": [
       "Text(0, 0.5, 'Frequency')"
      ]
     },
     "execution_count": 25,
     "metadata": {},
     "output_type": "execute_result"
    },
    {
     "data": {
      "image/png": "[encoded data removed]",
      "text/plain": [
       "<Figure size 504x504 with 1 Axes>"
      ]
     },
     "metadata": {
      "needs_background": "light"
     },
     "output_type": "display_data"
    }
   ],
   "source": [
    "#Histogram Plot of pickup_longitude Column\n",
    "plt.figure(figsize=(7,7))\n",
    "plt.hist(cab_train['pickup_longitude'],bins=25)\n",
    "plt.xlabel('pickup_longitude')\n",
    "plt.ylabel('Frequency')"
   ]
  },
  {
   "cell_type": "code",
   "execution_count": 26,
   "metadata": {},
   "outputs": [
    {
     "data": {
      "text/plain": [
       "Text(0, 0.5, 'Frequency')"
      ]
     },
     "execution_count": 26,
     "metadata": {},
     "output_type": "execute_result"
    },
    {
     "data": {
      "image/png": "[encoded data removed]",
      "text/plain": [
       "<Figure size 504x504 with 1 Axes>"
      ]
     },
     "metadata": {
      "needs_background": "light"
     },
     "output_type": "display_data"
    }
   ],
   "source": [
    "#Histogram Plot of dropoff_latitude Column\n",
    "plt.figure(figsize=(7,7))\n",
    "plt.hist(cab_train['dropoff_latitude'],bins=30)\n",
    "plt.xlabel('dropoff_latitude')\n",
    "plt.ylabel('Frequency')"
   ]
  },
  {
   "cell_type": "code",
   "execution_count": 27,
   "metadata": {
    "scrolled": true
   },
   "outputs": [
    {
     "data": {
      "text/plain": [
       "Text(0, 0.5, 'Frequency')"
      ]
     },
     "execution_count": 27,
     "metadata": {},
     "output_type": "execute_result"
    },
    {
     "data": {
      "image/png": "[encoded data removed]",
      "text/plain": [
       "<Figure size 504x504 with 1 Axes>"
      ]
     },
     "metadata": {
      "needs_background": "light"
     },
     "output_type": "display_data"
    }
   ],
   "source": [
    "#Histogram Plot of dropoff_longitude Column\n",
    "plt.figure(figsize=(7,7))\n",
    "plt.hist(cab_train['dropoff_longitude'],bins=25)\n",
    "plt.xlabel('dropoff_longitude')\n",
    "plt.ylabel('Frequency')"
   ]
  },
  {
   "cell_type": "markdown",
   "metadata": {},
   "source": [
    "### Feature Selection"
   ]
  },
  {
   "cell_type": "code",
   "execution_count": 28,
   "metadata": {},
   "outputs": [
    {
     "data": {
      "text/plain": [
       "['fare_amount',\n",
       " 'pickup_longitude',\n",
       " 'pickup_latitude',\n",
       " 'dropoff_longitude',\n",
       " 'dropoff_latitude',\n",
       " 'passenger_count']"
      ]
     },
     "execution_count": 28,
     "metadata": {},
     "output_type": "execute_result"
    }
   ],
   "source": [
    "cnames=[\"fare_amount\", \"pickup_longitude\", \"pickup_latitude\", \"dropoff_longitude\", \"dropoff_latitude\",\"passenger_count\"]\n",
    "cnames"
   ]
  },
  {
   "cell_type": "code",
   "execution_count": 29,
   "metadata": {},
   "outputs": [],
   "source": [
    "##Correlation analysis\n",
    "#Correlation plot\n",
    "df_corr = cab_train.loc[:,cnames]"
   ]
  },
  {
   "cell_type": "code",
   "execution_count": 30,
   "metadata": {},
   "outputs": [
    {
     "data": {
      "text/plain": [
       "<matplotlib.axes._subplots.AxesSubplot at 0x29fa5c62da0>"
      ]
     },
     "execution_count": 30,
     "metadata": {},
     "output_type": "execute_result"
    },
    {
     "data": {
      "image/png": "[encoded data removed]",
      "text/plain": [
       "<Figure size 504x504 with 2 Axes>"
      ]
     },
     "metadata": {
      "needs_background": "light"
     },
     "output_type": "display_data"
    }
   ],
   "source": [
    "#Set the width and hieght of the plot\n",
    "f, ax = plt.subplots(figsize=(7, 7))\n",
    "\n",
    "#Generate correlation matrix\n",
    "corr = df_corr.corr()\n",
    "\n",
    "#Plot using seaborn library\n",
    "sns.heatmap(corr, mask=np.zeros_like(corr, dtype=np.bool),annot= True,fmt = \" .3f\", cmap=sns.diverging_palette(220, 10, as_cmap=True),\n",
    "            square=True, ax=ax)\n"
   ]
  },
  {
   "cell_type": "code",
   "execution_count": 31,
   "metadata": {},
   "outputs": [
    {
     "name": "stdout",
     "output_type": "stream",
     "text": [
      "year\n",
      "0.0\n",
      "month\n",
      "6.187136568195433e-05\n",
      "hour\n",
      "6.64446987089005e-05\n",
      "weekday\n",
      "0.3943241861627226\n",
      "date\n",
      "0.14597964709291117\n"
     ]
    }
   ],
   "source": [
    "from scipy.stats import chi2_contingency\n",
    "#Chisquare test of independence\n",
    "#Save categorical variables\n",
    "cat_names = [\"year\", \"month\", \"hour\", \"weekday\", \"date\"]\n",
    "\n",
    "#loop for chi square values\n",
    "for i in cat_names:\n",
    "    print(i)\n",
    "    chi2, p, dof, ex = chi2_contingency(pd.crosstab(cab_train['fare_amount'], cab_train[i]))\n",
    "    print(p)"
   ]
  },
  {
   "cell_type": "code",
   "execution_count": 32,
   "metadata": {},
   "outputs": [],
   "source": [
    "#since p-value of weekday(.3943) and date(0.1459) is greater than 0.05 ,we can remove them\n",
    "cab_train=cab_train.drop(['weekday','date'],axis=1)"
   ]
  },
  {
   "cell_type": "code",
   "execution_count": 33,
   "metadata": {},
   "outputs": [],
   "source": [
    "cab_train= cab_train.astype({\"fare_amount\":float,\"pickup_longitude\":float,\"pickup_latitude\":float,\"dropoff_longitude\":float,\"dropoff_latitude\":float,\"passenger_count\":int,\"year\":int,\"month\":int,\"hour\":int})"
   ]
  },
  {
   "cell_type": "code",
   "execution_count": 34,
   "metadata": {},
   "outputs": [
    {
     "data": {
      "text/plain": [
       "fare_amount          float64\n",
       "pickup_longitude     float64\n",
       "pickup_latitude      float64\n",
       "dropoff_longitude    float64\n",
       "dropoff_latitude     float64\n",
       "passenger_count        int32\n",
       "year                   int32\n",
       "month                  int32\n",
       "hour                   int32\n",
       "dtype: object"
      ]
     },
     "execution_count": 34,
     "metadata": {},
     "output_type": "execute_result"
    }
   ],
   "source": [
    "cab_train.dtypes"
   ]
  },
  {
   "cell_type": "markdown",
   "metadata": {},
   "source": [
    "Algorithm\n"
   ]
  },
  {
   "cell_type": "code",
   "execution_count": 35,
   "metadata": {},
   "outputs": [],
   "source": [
    "#Import Libraries for decision tree\n",
    "from sklearn.model_selection import train_test_split\n",
    "import statsmodels.api as sm"
   ]
  },
  {
   "cell_type": "code",
   "execution_count": 36,
   "metadata": {},
   "outputs": [],
   "source": [
    "#split the cab_train data\n",
    "#X=cab_train.loc[:,cab_train.columns != 'fare_amount']\n",
    "#Y=cab_train['fare_amount']\n",
    "cab_train_train,cab_train_test = train_test_split(cab_train, test_size=0.2)\n",
    "Y_Train=cab_train_train.iloc[:,0]\n",
    "X_train=cab_train_train.iloc[:,1:9]\n",
    "X_test=cab_train_test.iloc[:,1:9]\n",
    "Y_test=cab_train_test.iloc[:,0]\n"
   ]
  },
  {
   "cell_type": "code",
   "execution_count": 37,
   "metadata": {},
   "outputs": [],
   "source": [
    "#from sklearn.linear_model import LinearRegression\n",
    "#ols = LinearRegression()\n",
    "#ols_model = ols.fit(X_train, Y_Train)\n",
    "#y_pred_test = ols_model.predict(X_test)\n",
    "import statsmodels.api as sm\n",
    "model=sm.OLS(Y_Train,X_train).fit()"
   ]
  },
  {
   "cell_type": "code",
   "execution_count": 38,
   "metadata": {},
   "outputs": [
    {
     "data": {
      "text/html": [
       "<table class=\"simpletable\">\n",
       "<caption>OLS Regression Results</caption>\n",
       "<tr>\n",
       "  <th>Dep. Variable:</th>       <td>fare_amount</td>   <th>  R-squared (uncentered):</th>      <td>   0.879</td> \n",
       "</tr>\n",
       "<tr>\n",
       "  <th>Model:</th>                   <td>OLS</td>       <th>  Adj. R-squared (uncentered):</th> <td>   0.878</td> \n",
       "</tr>\n",
       "<tr>\n",
       "  <th>Method:</th>             <td>Least Squares</td>  <th>  F-statistic:       </th>          <td>   8829.</td> \n",
       "</tr>\n",
       "<tr>\n",
       "  <th>Date:</th>             <td>Wed, 16 Oct 2019</td> <th>  Prob (F-statistic):</th>           <td>  0.00</td>  \n",
       "</tr>\n",
       "<tr>\n",
       "  <th>Time:</th>                 <td>15:26:40</td>     <th>  Log-Likelihood:    </th>          <td> -24509.</td> \n",
       "</tr>\n",
       "<tr>\n",
       "  <th>No. Observations:</th>      <td>  9775</td>      <th>  AIC:               </th>          <td>4.903e+04</td>\n",
       "</tr>\n",
       "<tr>\n",
       "  <th>Df Residuals:</th>          <td>  9767</td>      <th>  BIC:               </th>          <td>4.909e+04</td>\n",
       "</tr>\n",
       "<tr>\n",
       "  <th>Df Model:</th>              <td>     8</td>      <th>                     </th>              <td> </td>    \n",
       "</tr>\n",
       "<tr>\n",
       "  <th>Covariance Type:</th>      <td>nonrobust</td>    <th>                     </th>              <td> </td>    \n",
       "</tr>\n",
       "</table>\n",
       "<table class=\"simpletable\">\n",
       "<tr>\n",
       "          <td></td>             <th>coef</th>     <th>std err</th>      <th>t</th>      <th>P>|t|</th>  <th>[0.025</th>    <th>0.975]</th>  \n",
       "</tr>\n",
       "<tr>\n",
       "  <th>pickup_longitude</th>  <td>   -8.5424</td> <td>    2.294</td> <td>   -3.723</td> <td> 0.000</td> <td>  -13.040</td> <td>   -4.045</td>\n",
       "</tr>\n",
       "<tr>\n",
       "  <th>pickup_latitude</th>   <td>    0.5280</td> <td>    2.068</td> <td>    0.255</td> <td> 0.798</td> <td>   -3.526</td> <td>    4.582</td>\n",
       "</tr>\n",
       "<tr>\n",
       "  <th>dropoff_longitude</th> <td>    8.5609</td> <td>    2.308</td> <td>    3.710</td> <td> 0.000</td> <td>    4.037</td> <td>   13.085</td>\n",
       "</tr>\n",
       "<tr>\n",
       "  <th>dropoff_latitude</th>  <td>  -11.1606</td> <td>    2.028</td> <td>   -5.504</td> <td> 0.000</td> <td>  -15.136</td> <td>   -7.186</td>\n",
       "</tr>\n",
       "<tr>\n",
       "  <th>passenger_count</th>   <td>    0.0558</td> <td>    0.024</td> <td>    2.345</td> <td> 0.019</td> <td>    0.009</td> <td>    0.102</td>\n",
       "</tr>\n",
       "<tr>\n",
       "  <th>year</th>              <td>    0.2199</td> <td>    0.016</td> <td>   13.608</td> <td> 0.000</td> <td>    0.188</td> <td>    0.252</td>\n",
       "</tr>\n",
       "<tr>\n",
       "  <th>month</th>             <td>    0.0303</td> <td>    0.009</td> <td>    3.454</td> <td> 0.001</td> <td>    0.013</td> <td>    0.048</td>\n",
       "</tr>\n",
       "<tr>\n",
       "  <th>hour</th>              <td>    0.0080</td> <td>    0.005</td> <td>    1.681</td> <td> 0.093</td> <td>   -0.001</td> <td>    0.017</td>\n",
       "</tr>\n",
       "</table>\n",
       "<table class=\"simpletable\">\n",
       "<tr>\n",
       "  <th>Omnibus:</th>       <td>583.342</td> <th>  Durbin-Watson:     </th> <td>   2.047</td> \n",
       "</tr>\n",
       "<tr>\n",
       "  <th>Prob(Omnibus):</th> <td> 0.000</td>  <th>  Jarque-Bera (JB):  </th> <td> 679.554</td> \n",
       "</tr>\n",
       "<tr>\n",
       "  <th>Skew:</th>          <td> 0.636</td>  <th>  Prob(JB):          </th> <td>2.73e-148</td>\n",
       "</tr>\n",
       "<tr>\n",
       "  <th>Kurtosis:</th>      <td> 2.780</td>  <th>  Cond. No.          </th> <td>2.53e+05</td> \n",
       "</tr>\n",
       "</table><br/><br/>Warnings:<br/>[1] Standard Errors assume that the covariance matrix of the errors is correctly specified.<br/>[2] The condition number is large, 2.53e+05. This might indicate that there are<br/>strong multicollinearity or other numerical problems."
      ],
      "text/plain": [
       "<class 'statsmodels.iolib.summary.Summary'>\n",
       "\"\"\"\n",
       "                                 OLS Regression Results                                \n",
       "=======================================================================================\n",
       "Dep. Variable:            fare_amount   R-squared (uncentered):                   0.879\n",
       "Model:                            OLS   Adj. R-squared (uncentered):              0.878\n",
       "Method:                 Least Squares   F-statistic:                              8829.\n",
       "Date:                Wed, 16 Oct 2019   Prob (F-statistic):                        0.00\n",
       "Time:                        15:26:40   Log-Likelihood:                         -24509.\n",
       "No. Observations:                9775   AIC:                                  4.903e+04\n",
       "Df Residuals:                    9767   BIC:                                  4.909e+04\n",
       "Df Model:                           8                                                  \n",
       "Covariance Type:            nonrobust                                                  \n",
       "=====================================================================================\n",
       "                        coef    std err          t      P>|t|      [0.025      0.975]\n",
       "-------------------------------------------------------------------------------------\n",
       "pickup_longitude     -8.5424      2.294     -3.723      0.000     -13.040      -4.045\n",
       "pickup_latitude       0.5280      2.068      0.255      0.798      -3.526       4.582\n",
       "dropoff_longitude     8.5609      2.308      3.710      0.000       4.037      13.085\n",
       "dropoff_latitude    -11.1606      2.028     -5.504      0.000     -15.136      -7.186\n",
       "passenger_count       0.0558      0.024      2.345      0.019       0.009       0.102\n",
       "year                  0.2199      0.016     13.608      0.000       0.188       0.252\n",
       "month                 0.0303      0.009      3.454      0.001       0.013       0.048\n",
       "hour                  0.0080      0.005      1.681      0.093      -0.001       0.017\n",
       "==============================================================================\n",
       "Omnibus:                      583.342   Durbin-Watson:                   2.047\n",
       "Prob(Omnibus):                  0.000   Jarque-Bera (JB):              679.554\n",
       "Skew:                           0.636   Prob(JB):                    2.73e-148\n",
       "Kurtosis:                       2.780   Cond. No.                     2.53e+05\n",
       "==============================================================================\n",
       "\n",
       "Warnings:\n",
       "[1] Standard Errors assume that the covariance matrix of the errors is correctly specified.\n",
       "[2] The condition number is large, 2.53e+05. This might indicate that there are\n",
       "strong multicollinearity or other numerical problems.\n",
       "\"\"\""
      ]
     },
     "execution_count": 38,
     "metadata": {},
     "output_type": "execute_result"
    }
   ],
   "source": [
    "model.summary()"
   ]
  },
  {
   "cell_type": "code",
   "execution_count": 39,
   "metadata": {},
   "outputs": [],
   "source": [
    "#Calculate MAPE\n",
    "def MAPE(y_true,y_pred):\n",
    "    mape=np.mean(np.abs((y_true-y_pred)/y_true))*100\n",
    "    return mape\n"
   ]
  },
  {
   "cell_type": "code",
   "execution_count": 40,
   "metadata": {},
   "outputs": [
    {
     "data": {
      "text/plain": [
       "36.07283587679911"
      ]
     },
     "execution_count": 40,
     "metadata": {},
     "output_type": "execute_result"
    }
   ],
   "source": [
    "Prediction_LR=model.predict(X_test)\n",
    "MAPE(Y_test,Prediction_LR)#34.76870905446957"
   ]
  },
  {
   "cell_type": "code",
   "execution_count": 41,
   "metadata": {},
   "outputs": [
    {
     "name": "stdout",
     "output_type": "stream",
     "text": [
      "depth : 1 ----  Decision Tree MAPE: 36.21358395567267\n",
      "depth : 2 ----  Decision Tree MAPE: 35.98769010909725\n",
      "depth : 5 ----  Decision Tree MAPE: 33.085601058490845\n",
      "depth : 10 ----  Decision Tree MAPE: 28.219662595478283\n",
      "depth : 20 ----  Decision Tree MAPE: 26.168156276067506\n",
      "depth : 30 ----  Decision Tree MAPE: 27.231206026694426\n",
      "depth : 40 ----  Decision Tree MAPE: 26.986118938200658\n",
      "depth : 50 ----  Decision Tree MAPE: 27.119248283060116\n"
     ]
    }
   ],
   "source": [
    "###### DecisionTree Modelling ##########\n",
    "def DT(depth):\n",
    "    dt = tree.DecisionTreeRegressor( max_depth = depth)\n",
    "    dt_model = dt.fit(X_train, Y_Train)\n",
    "    y_pred = dt_model.predict(X_test)\n",
    "    print('depth : {} ----  Decision Tree MAPE: {}'.format(depth,MAPE(Y_test,y_pred)))\n",
    "    \n",
    "for depth in [1,2,5,10,20,30,40,50]:\n",
    "    DT(depth)"
   ]
  },
  {
   "cell_type": "code",
   "execution_count": 42,
   "metadata": {},
   "outputs": [],
   "source": [
    "dt = tree.DecisionTreeRegressor(max_depth =20)\n",
    "dt_model=dt.fit(X_train,Y_Train)\n",
    "dt_pred = dt_model.predict(X_test)"
   ]
  },
  {
   "cell_type": "code",
   "execution_count": 43,
   "metadata": {},
   "outputs": [
    {
     "data": {
      "text/plain": [
       "26.219676230678257"
      ]
     },
     "execution_count": 43,
     "metadata": {},
     "output_type": "execute_result"
    }
   ],
   "source": [
    "MAPE(Y_test,dt_pred)#24.119185801347378"
   ]
  },
  {
   "cell_type": "code",
   "execution_count": 44,
   "metadata": {},
   "outputs": [
    {
     "name": "stdout",
     "output_type": "stream",
     "text": [
      "depth : 2, n_estimators : 100  ---- Random Forest Regression MAPE: 35.01463006243811\n",
      "depth : 5, n_estimators : 100  ---- Random Forest Regression MAPE: 32.021092479554945\n",
      "depth : 10, n_estimators : 100  ---- Random Forest Regression MAPE: 25.48452323163933\n",
      "depth : 20, n_estimators : 100  ---- Random Forest Regression MAPE: 19.510082363206134\n",
      "depth : 30, n_estimators : 100  ---- Random Forest Regression MAPE: 18.99535140974475\n",
      "depth : 2, n_estimators : 200  ---- Random Forest Regression MAPE: 35.11316663190597\n",
      "depth : 5, n_estimators : 200  ---- Random Forest Regression MAPE: 31.840770940058533\n",
      "depth : 10, n_estimators : 200  ---- Random Forest Regression MAPE: 25.549272501820347\n",
      "depth : 20, n_estimators : 200  ---- Random Forest Regression MAPE: 19.49701206305693\n",
      "depth : 30, n_estimators : 200  ---- Random Forest Regression MAPE: 18.87657862721305\n"
     ]
    }
   ],
   "source": [
    "from sklearn.ensemble import RandomForestRegressor\n",
    "def train_RF(n_est, depth):\n",
    "    rf = RandomForestRegressor(n_estimators=n_est, max_depth=depth, n_jobs=-1)\n",
    "    rf_model = rf.fit(X_train, Y_Train)\n",
    "    y_pred = rf_model.predict(X_test)\n",
    "    print('depth : {}, n_estimators : {}  ---- Random Forest Regression MAPE: {}'.format(depth, n_est,MAPE(Y_test,y_pred)))  \n",
    "\n",
    "for n_est in [100, 200]:\n",
    "    for depth in [2, 5, 10 , 20, 30]:\n",
    "        train_RF(n_est, depth)"
   ]
  },
  {
   "cell_type": "code",
   "execution_count": 45,
   "metadata": {},
   "outputs": [],
   "source": [
    "rf_model = RandomForestRegressor(max_depth=30, n_estimators = 200).fit(X_train,Y_Train)\n",
    "rf_pred = rf_model.predict(X_test)"
   ]
  },
  {
   "cell_type": "code",
   "execution_count": 46,
   "metadata": {},
   "outputs": [
    {
     "data": {
      "text/plain": [
       "18.92473217229968"
      ]
     },
     "execution_count": 46,
     "metadata": {},
     "output_type": "execute_result"
    }
   ],
   "source": [
    "MAPE(Y_test,rf_pred)#18.27075369978842"
   ]
  },
  {
   "cell_type": "markdown",
   "metadata": {},
   "source": [
    "TEST DATA\n"
   ]
  },
  {
   "cell_type": "code",
   "execution_count": 47,
   "metadata": {},
   "outputs": [
    {
     "data": {
      "text/html": [
       "<div>\n",
       "<style scoped>\n",
       "    .dataframe tbody tr th:only-of-type {\n",
       "        vertical-align: middle;\n",
       "    }\n",
       "\n",
       "    .dataframe tbody tr th {\n",
       "        vertical-align: top;\n",
       "    }\n",
       "\n",
       "    .dataframe thead th {\n",
       "        text-align: right;\n",
       "    }\n",
       "</style>\n",
       "<table border=\"1\" class=\"dataframe\">\n",
       "  <thead>\n",
       "    <tr style=\"text-align: right;\">\n",
       "      <th></th>\n",
       "      <th>pickup_datetime</th>\n",
       "      <th>pickup_longitude</th>\n",
       "      <th>pickup_latitude</th>\n",
       "      <th>dropoff_longitude</th>\n",
       "      <th>dropoff_latitude</th>\n",
       "      <th>passenger_count</th>\n",
       "    </tr>\n",
       "  </thead>\n",
       "  <tbody>\n",
       "    <tr>\n",
       "      <th>0</th>\n",
       "      <td>2015-01-27 13:08:24 UTC</td>\n",
       "      <td>-73.973320</td>\n",
       "      <td>40.763805</td>\n",
       "      <td>-73.981430</td>\n",
       "      <td>40.743835</td>\n",
       "      <td>1</td>\n",
       "    </tr>\n",
       "    <tr>\n",
       "      <th>1</th>\n",
       "      <td>2015-01-27 13:08:24 UTC</td>\n",
       "      <td>-73.986862</td>\n",
       "      <td>40.719383</td>\n",
       "      <td>-73.998886</td>\n",
       "      <td>40.739201</td>\n",
       "      <td>1</td>\n",
       "    </tr>\n",
       "    <tr>\n",
       "      <th>2</th>\n",
       "      <td>2011-10-08 11:53:44 UTC</td>\n",
       "      <td>-73.982524</td>\n",
       "      <td>40.751260</td>\n",
       "      <td>-73.979654</td>\n",
       "      <td>40.746139</td>\n",
       "      <td>1</td>\n",
       "    </tr>\n",
       "    <tr>\n",
       "      <th>3</th>\n",
       "      <td>2012-12-01 21:12:12 UTC</td>\n",
       "      <td>-73.981160</td>\n",
       "      <td>40.767807</td>\n",
       "      <td>-73.990448</td>\n",
       "      <td>40.751635</td>\n",
       "      <td>1</td>\n",
       "    </tr>\n",
       "    <tr>\n",
       "      <th>4</th>\n",
       "      <td>2012-12-01 21:12:12 UTC</td>\n",
       "      <td>-73.966046</td>\n",
       "      <td>40.789775</td>\n",
       "      <td>-73.988565</td>\n",
       "      <td>40.744427</td>\n",
       "      <td>1</td>\n",
       "    </tr>\n",
       "  </tbody>\n",
       "</table>\n",
       "</div>"
      ],
      "text/plain": [
       "           pickup_datetime  pickup_longitude  pickup_latitude  \\\n",
       "0  2015-01-27 13:08:24 UTC        -73.973320        40.763805   \n",
       "1  2015-01-27 13:08:24 UTC        -73.986862        40.719383   \n",
       "2  2011-10-08 11:53:44 UTC        -73.982524        40.751260   \n",
       "3  2012-12-01 21:12:12 UTC        -73.981160        40.767807   \n",
       "4  2012-12-01 21:12:12 UTC        -73.966046        40.789775   \n",
       "\n",
       "   dropoff_longitude  dropoff_latitude  passenger_count  \n",
       "0         -73.981430         40.743835                1  \n",
       "1         -73.998886         40.739201                1  \n",
       "2         -73.979654         40.746139                1  \n",
       "3         -73.990448         40.751635                1  \n",
       "4         -73.988565         40.744427                1  "
      ]
     },
     "execution_count": 47,
     "metadata": {},
     "output_type": "execute_result"
    }
   ],
   "source": [
    "cab_test.head()"
   ]
  },
  {
   "cell_type": "code",
   "execution_count": 48,
   "metadata": {},
   "outputs": [
    {
     "data": {
      "text/html": [
       "<div>\n",
       "<style scoped>\n",
       "    .dataframe tbody tr th:only-of-type {\n",
       "        vertical-align: middle;\n",
       "    }\n",
       "\n",
       "    .dataframe tbody tr th {\n",
       "        vertical-align: top;\n",
       "    }\n",
       "\n",
       "    .dataframe thead th {\n",
       "        text-align: right;\n",
       "    }\n",
       "</style>\n",
       "<table border=\"1\" class=\"dataframe\">\n",
       "  <thead>\n",
       "    <tr style=\"text-align: right;\">\n",
       "      <th></th>\n",
       "      <th>pickup_longitude</th>\n",
       "      <th>pickup_latitude</th>\n",
       "      <th>dropoff_longitude</th>\n",
       "      <th>dropoff_latitude</th>\n",
       "      <th>passenger_count</th>\n",
       "    </tr>\n",
       "  </thead>\n",
       "  <tbody>\n",
       "    <tr>\n",
       "      <th>count</th>\n",
       "      <td>9914.000000</td>\n",
       "      <td>9914.000000</td>\n",
       "      <td>9914.000000</td>\n",
       "      <td>9914.000000</td>\n",
       "      <td>9914.000000</td>\n",
       "    </tr>\n",
       "    <tr>\n",
       "      <th>mean</th>\n",
       "      <td>-73.974722</td>\n",
       "      <td>40.751041</td>\n",
       "      <td>-73.973657</td>\n",
       "      <td>40.751743</td>\n",
       "      <td>1.671273</td>\n",
       "    </tr>\n",
       "    <tr>\n",
       "      <th>std</th>\n",
       "      <td>0.042774</td>\n",
       "      <td>0.033541</td>\n",
       "      <td>0.039072</td>\n",
       "      <td>0.035435</td>\n",
       "      <td>1.278747</td>\n",
       "    </tr>\n",
       "    <tr>\n",
       "      <th>min</th>\n",
       "      <td>-74.252193</td>\n",
       "      <td>40.573143</td>\n",
       "      <td>-74.263242</td>\n",
       "      <td>40.568973</td>\n",
       "      <td>1.000000</td>\n",
       "    </tr>\n",
       "    <tr>\n",
       "      <th>25%</th>\n",
       "      <td>-73.992501</td>\n",
       "      <td>40.736125</td>\n",
       "      <td>-73.991247</td>\n",
       "      <td>40.735254</td>\n",
       "      <td>1.000000</td>\n",
       "    </tr>\n",
       "    <tr>\n",
       "      <th>50%</th>\n",
       "      <td>-73.982326</td>\n",
       "      <td>40.753051</td>\n",
       "      <td>-73.980015</td>\n",
       "      <td>40.754065</td>\n",
       "      <td>1.000000</td>\n",
       "    </tr>\n",
       "    <tr>\n",
       "      <th>75%</th>\n",
       "      <td>-73.968013</td>\n",
       "      <td>40.767113</td>\n",
       "      <td>-73.964059</td>\n",
       "      <td>40.768757</td>\n",
       "      <td>2.000000</td>\n",
       "    </tr>\n",
       "    <tr>\n",
       "      <th>max</th>\n",
       "      <td>-72.986532</td>\n",
       "      <td>41.709555</td>\n",
       "      <td>-72.990963</td>\n",
       "      <td>41.696683</td>\n",
       "      <td>6.000000</td>\n",
       "    </tr>\n",
       "  </tbody>\n",
       "</table>\n",
       "</div>"
      ],
      "text/plain": [
       "       pickup_longitude  pickup_latitude  dropoff_longitude  dropoff_latitude  \\\n",
       "count       9914.000000      9914.000000        9914.000000       9914.000000   \n",
       "mean         -73.974722        40.751041         -73.973657         40.751743   \n",
       "std            0.042774         0.033541           0.039072          0.035435   \n",
       "min          -74.252193        40.573143         -74.263242         40.568973   \n",
       "25%          -73.992501        40.736125         -73.991247         40.735254   \n",
       "50%          -73.982326        40.753051         -73.980015         40.754065   \n",
       "75%          -73.968013        40.767113         -73.964059         40.768757   \n",
       "max          -72.986532        41.709555         -72.990963         41.696683   \n",
       "\n",
       "       passenger_count  \n",
       "count      9914.000000  \n",
       "mean          1.671273  \n",
       "std           1.278747  \n",
       "min           1.000000  \n",
       "25%           1.000000  \n",
       "50%           1.000000  \n",
       "75%           2.000000  \n",
       "max           6.000000  "
      ]
     },
     "execution_count": 48,
     "metadata": {},
     "output_type": "execute_result"
    }
   ],
   "source": [
    "cab_test.describe()"
   ]
  },
  {
   "cell_type": "code",
   "execution_count": 49,
   "metadata": {},
   "outputs": [
    {
     "data": {
      "text/plain": [
       "pickup_datetime      0\n",
       "pickup_longitude     0\n",
       "pickup_latitude      0\n",
       "dropoff_longitude    0\n",
       "dropoff_latitude     0\n",
       "passenger_count      0\n",
       "dtype: int64"
      ]
     },
     "execution_count": 49,
     "metadata": {},
     "output_type": "execute_result"
    }
   ],
   "source": [
    "########Missing value analyis__________________________________________________________________________\n",
    "missing_val=pd.DataFrame(cab_test.isnull().sum())\n",
    "#reset index\n",
    "missing_val=missing_val.reset_index()\n",
    "#renaming\n",
    "missing_val=missing_val.rename(columns={'index':'variables',0:'Missing_percentage'})\n",
    "#calculate percentage\n",
    "missing_val['Missing_percentage']=(missing_val['Missing_percentage']/len(cab_test))*100\n",
    "#put in order\n",
    "missing_val=missing_val.sort_values('Missing_percentage',ascending=False).reset_index(drop=True)\n",
    "cab_test.isnull().sum()\n"
   ]
  },
  {
   "cell_type": "code",
   "execution_count": 50,
   "metadata": {},
   "outputs": [],
   "source": [
    "## The fare amount column is having some negative values or zero,\n",
    "for i in range(0, len(cab_test)):\n",
    "        #passenger_count must be between 1 and 6\n",
    "    if(cab_test['passenger_count'].iloc[i]>6 or cab_test['passenger_count'].iloc[i]<1):\n",
    "        cab_test['passenger_count'].iloc[i]=np.nan\n",
    "        #Pickup latitude range -90 to 90\n",
    "    if(cab_test['pickup_latitude'].iloc[i]<(-90) or cab_test['pickup_latitude'].iloc[i]>90):\n",
    "        cab_test['pickup_latitude'].iloc[i]=np.nan\n",
    "cab_test.isnull().sum()\n",
    "cab_test=cab_test.dropna() "
   ]
  },
  {
   "cell_type": "code",
   "execution_count": 51,
   "metadata": {},
   "outputs": [
    {
     "data": {
      "text/plain": [
       "(9914, 6)"
      ]
     },
     "execution_count": 51,
     "metadata": {},
     "output_type": "execute_result"
    }
   ],
   "source": [
    "cab_test.shape\n"
   ]
  },
  {
   "cell_type": "code",
   "execution_count": 52,
   "metadata": {},
   "outputs": [],
   "source": [
    "#convert datetime into seperate variable\n",
    "convert_datetime(cab_test)\n",
    "cab_test=cab_test.drop(['pickup_datetime'],axis=1)"
   ]
  },
  {
   "cell_type": "code",
   "execution_count": 53,
   "metadata": {},
   "outputs": [
    {
     "data": {
      "text/plain": [
       "(9914, 10)"
      ]
     },
     "execution_count": 53,
     "metadata": {},
     "output_type": "execute_result"
    }
   ],
   "source": [
    "cab_test=cab_test.dropna()\n",
    "cab_test.shape"
   ]
  },
  {
   "cell_type": "code",
   "execution_count": 54,
   "metadata": {},
   "outputs": [
    {
     "data": {
      "image/png": "[encoded data removed]",
      "text/plain": [
       "<Figure size 432x288 with 24 Axes>"
      ]
     },
     "metadata": {
      "needs_background": "light"
     },
     "output_type": "display_data"
    }
   ],
   "source": [
    "#outlier Analysis_________________________________________\n",
    "df=cab_test.copy()\n",
    "#cab_train = df.copy()\n",
    "#save numeric names\n",
    "cnames =  [ \"pickup_longitude\", \"pickup_latitude\", \"dropoff_longitude\", \"dropoff_latitude\"]\n",
    "\n",
    "#Check for outliers until they are completely removed from the code\n",
    "\n",
    "cab_test.plot(kind='box', subplots=True, layout=(8,3), sharex=False, sharey=False, fontsize=8)\n",
    "plt.subplots_adjust(left=0.125, bottom=0.1, right=0.9, top= 3,wspace=0.2, hspace=0.2)\n",
    "plt.show()"
   ]
  },
  {
   "cell_type": "code",
   "execution_count": 55,
   "metadata": {},
   "outputs": [
    {
     "name": "stdout",
     "output_type": "stream",
     "text": [
      "(9914, 10)\n",
      "(8603, 10)\n",
      "(8473, 10)\n",
      "(8459, 10)\n",
      "(8456, 10)\n",
      "(8456, 10)\n"
     ]
    }
   ],
   "source": [
    " # #Detect and delete outliers from data\n",
    "for i in range(0,6):\n",
    "    print(cab_test.shape)\n",
    "    for i in cnames:    \n",
    "        q75, q25 = np.percentile(cab_test.loc[:,i], [75 ,25])\n",
    "        iqr = q75 - q25\n",
    "        min = q25 - (iqr*1.5)\n",
    "        max = q75 + (iqr*1.5)\n",
    "        cab_test = cab_test.drop(cab_test[cab_test.loc[:,i] < min].index)\n",
    "        cab_test = cab_test.drop(cab_test[cab_test.loc[:,i] > max].index)\n",
    "    #Detect and delete outliers for passenger_count min should be 1 max should be 6\n",
    "    q75, q25 = np.percentile(cab_test['passenger_count'], [75 ,25])\n",
    "    iqr = q75 - q25\n",
    "\n",
    "    min = q25 - (iqr*1.5)\n",
    "    max = q75 + (iqr*1.5)\n",
    "    cab_test = cab_test.drop(cab_test[cab_test['passenger_count']< 1].index)\n",
    "    cab_test = cab_test.drop(cab_test[cab_test['passenger_count']> 6].index)\n",
    "    cab_test.shape"
   ]
  },
  {
   "cell_type": "code",
   "execution_count": 56,
   "metadata": {},
   "outputs": [
    {
     "data": {
      "text/plain": [
       "Text(0, 0.5, 'Frequency')"
      ]
     },
     "execution_count": 56,
     "metadata": {},
     "output_type": "execute_result"
    },
    {
     "data": {
      "image/png": "[encoded data removed]",
      "text/plain": [
       "<Figure size 504x504 with 1 Axes>"
      ]
     },
     "metadata": {
      "needs_background": "light"
     },
     "output_type": "display_data"
    }
   ],
   "source": [
    "#Histogram Plot of passenger_count Column\n",
    "plt.figure(figsize=(7,7))\n",
    "plt.hist(cab_test['passenger_count'],bins=6)\n",
    "plt.xlabel('No. of Passengers')\n",
    "plt.ylabel('Frequency')"
   ]
  },
  {
   "cell_type": "code",
   "execution_count": 57,
   "metadata": {},
   "outputs": [
    {
     "data": {
      "text/plain": [
       "Text(0, 0.5, 'Frequency')"
      ]
     },
     "execution_count": 57,
     "metadata": {},
     "output_type": "execute_result"
    },
    {
     "data": {
      "image/png": "[encoded data removed]",
      "text/plain": [
       "<Figure size 504x504 with 1 Axes>"
      ]
     },
     "metadata": {
      "needs_background": "light"
     },
     "output_type": "display_data"
    }
   ],
   "source": [
    "#Histogram Plot of fareamount Column\n",
    "plt.figure(figsize=(7,7))\n",
    "plt.hist(cab_test['pickup_latitude'])\n",
    "plt.xlabel('pickup_latitude')\n",
    "plt.ylabel('Frequency')"
   ]
  },
  {
   "cell_type": "code",
   "execution_count": 58,
   "metadata": {},
   "outputs": [
    {
     "data": {
      "text/plain": [
       "Text(0, 0.5, 'Frequency')"
      ]
     },
     "execution_count": 58,
     "metadata": {},
     "output_type": "execute_result"
    },
    {
     "data": {
      "image/png": "[encoded data removed]",
      "text/plain": [
       "<Figure size 504x504 with 1 Axes>"
      ]
     },
     "metadata": {
      "needs_background": "light"
     },
     "output_type": "display_data"
    }
   ],
   "source": [
    "#Histogram Plot of fareamount Column\n",
    "plt.figure(figsize=(7,7))\n",
    "plt.hist(cab_test['pickup_longitude'])\n",
    "plt.xlabel('pickup_longitude')\n",
    "plt.ylabel('Frequency')"
   ]
  },
  {
   "cell_type": "code",
   "execution_count": 59,
   "metadata": {},
   "outputs": [
    {
     "data": {
      "text/plain": [
       "Text(0, 0.5, 'Frequency')"
      ]
     },
     "execution_count": 59,
     "metadata": {},
     "output_type": "execute_result"
    },
    {
     "data": {
      "image/png": "[encoded data removed]",
      "text/plain": [
       "<Figure size 504x504 with 1 Axes>"
      ]
     },
     "metadata": {
      "needs_background": "light"
     },
     "output_type": "display_data"
    }
   ],
   "source": [
    "#Histogram Plot of fareamount Column\n",
    "plt.figure(figsize=(7,7))\n",
    "plt.hist(cab_train['dropoff_latitude'])\n",
    "plt.xlabel('Dropoff_latitude')\n",
    "plt.ylabel('Frequency')"
   ]
  },
  {
   "cell_type": "code",
   "execution_count": 60,
   "metadata": {},
   "outputs": [
    {
     "data": {
      "text/plain": [
       "Text(0, 0.5, 'Frequency')"
      ]
     },
     "execution_count": 60,
     "metadata": {},
     "output_type": "execute_result"
    },
    {
     "data": {
      "image/png": "[encoded data removed]",
      "text/plain": [
       "<Figure size 504x504 with 1 Axes>"
      ]
     },
     "metadata": {
      "needs_background": "light"
     },
     "output_type": "display_data"
    }
   ],
   "source": [
    "#Histogram Plot of fareamount Column\n",
    "plt.figure(figsize=(7,7))\n",
    "plt.hist(cab_train['dropoff_longitude'])\n",
    "plt.xlabel('Dropoff_longitude')\n",
    "plt.ylabel('Frequency')"
   ]
  },
  {
   "cell_type": "code",
   "execution_count": 61,
   "metadata": {},
   "outputs": [],
   "source": [
    "cab_test=cab_test.drop(['weekday','date'],axis=1)"
   ]
  },
  {
   "cell_type": "code",
   "execution_count": 62,
   "metadata": {},
   "outputs": [
    {
     "data": {
      "text/plain": [
       "(8456, 8)"
      ]
     },
     "execution_count": 62,
     "metadata": {},
     "output_type": "execute_result"
    }
   ],
   "source": [
    "cab_test.shape"
   ]
  },
  {
   "cell_type": "code",
   "execution_count": 63,
   "metadata": {},
   "outputs": [],
   "source": [
    "cab_test= cab_test.astype({\"pickup_longitude\":float,\"pickup_latitude\":float,\"dropoff_longitude\":float,\"dropoff_latitude\":float,\"passenger_count\":int,\"year\":int,\"month\":int,\"hour\":int})"
   ]
  },
  {
   "cell_type": "markdown",
   "metadata": {},
   "source": [
    "Apply Random Forest"
   ]
  },
  {
   "cell_type": "code",
   "execution_count": 64,
   "metadata": {},
   "outputs": [],
   "source": [
    "cabfinal_pred = dt_model.predict(cab_test)\n",
    "#Convert our results to submission and then to a csv file\n",
    "cab_test[\"fare_amount\"] = cabfinal_pred"
   ]
  },
  {
   "cell_type": "code",
   "execution_count": 65,
   "metadata": {},
   "outputs": [
    {
     "data": {
      "text/html": [
       "<div>\n",
       "<style scoped>\n",
       "    .dataframe tbody tr th:only-of-type {\n",
       "        vertical-align: middle;\n",
       "    }\n",
       "\n",
       "    .dataframe tbody tr th {\n",
       "        vertical-align: top;\n",
       "    }\n",
       "\n",
       "    .dataframe thead th {\n",
       "        text-align: right;\n",
       "    }\n",
       "</style>\n",
       "<table border=\"1\" class=\"dataframe\">\n",
       "  <thead>\n",
       "    <tr style=\"text-align: right;\">\n",
       "      <th></th>\n",
       "      <th>pickup_longitude</th>\n",
       "      <th>pickup_latitude</th>\n",
       "      <th>dropoff_longitude</th>\n",
       "      <th>dropoff_latitude</th>\n",
       "      <th>passenger_count</th>\n",
       "      <th>year</th>\n",
       "      <th>month</th>\n",
       "      <th>hour</th>\n",
       "      <th>fare_amount</th>\n",
       "    </tr>\n",
       "  </thead>\n",
       "  <tbody>\n",
       "    <tr>\n",
       "      <th>0</th>\n",
       "      <td>-73.973320</td>\n",
       "      <td>40.763805</td>\n",
       "      <td>-73.981430</td>\n",
       "      <td>40.743835</td>\n",
       "      <td>1</td>\n",
       "      <td>2015</td>\n",
       "      <td>1</td>\n",
       "      <td>13</td>\n",
       "      <td>6.833333</td>\n",
       "    </tr>\n",
       "    <tr>\n",
       "      <th>1</th>\n",
       "      <td>-73.986862</td>\n",
       "      <td>40.719383</td>\n",
       "      <td>-73.998886</td>\n",
       "      <td>40.739201</td>\n",
       "      <td>1</td>\n",
       "      <td>2015</td>\n",
       "      <td>1</td>\n",
       "      <td>13</td>\n",
       "      <td>9.000000</td>\n",
       "    </tr>\n",
       "    <tr>\n",
       "      <th>2</th>\n",
       "      <td>-73.982524</td>\n",
       "      <td>40.751260</td>\n",
       "      <td>-73.979654</td>\n",
       "      <td>40.746139</td>\n",
       "      <td>1</td>\n",
       "      <td>2011</td>\n",
       "      <td>10</td>\n",
       "      <td>11</td>\n",
       "      <td>6.234225</td>\n",
       "    </tr>\n",
       "    <tr>\n",
       "      <th>3</th>\n",
       "      <td>-73.981160</td>\n",
       "      <td>40.767807</td>\n",
       "      <td>-73.990448</td>\n",
       "      <td>40.751635</td>\n",
       "      <td>1</td>\n",
       "      <td>2012</td>\n",
       "      <td>12</td>\n",
       "      <td>21</td>\n",
       "      <td>8.638710</td>\n",
       "    </tr>\n",
       "    <tr>\n",
       "      <th>4</th>\n",
       "      <td>-73.966046</td>\n",
       "      <td>40.789775</td>\n",
       "      <td>-73.988565</td>\n",
       "      <td>40.744427</td>\n",
       "      <td>1</td>\n",
       "      <td>2012</td>\n",
       "      <td>12</td>\n",
       "      <td>21</td>\n",
       "      <td>12.900000</td>\n",
       "    </tr>\n",
       "  </tbody>\n",
       "</table>\n",
       "</div>"
      ],
      "text/plain": [
       "   pickup_longitude  pickup_latitude  dropoff_longitude  dropoff_latitude  \\\n",
       "0        -73.973320        40.763805         -73.981430         40.743835   \n",
       "1        -73.986862        40.719383         -73.998886         40.739201   \n",
       "2        -73.982524        40.751260         -73.979654         40.746139   \n",
       "3        -73.981160        40.767807         -73.990448         40.751635   \n",
       "4        -73.966046        40.789775         -73.988565         40.744427   \n",
       "\n",
       "   passenger_count  year  month  hour  fare_amount  \n",
       "0                1  2015      1    13     6.833333  \n",
       "1                1  2015      1    13     9.000000  \n",
       "2                1  2011     10    11     6.234225  \n",
       "3                1  2012     12    21     8.638710  \n",
       "4                1  2012     12    21    12.900000  "
      ]
     },
     "execution_count": 65,
     "metadata": {},
     "output_type": "execute_result"
    }
   ],
   "source": [
    "cab_test.head()"
   ]
  },
  {
   "cell_type": "code",
   "execution_count": 66,
   "metadata": {},
   "outputs": [],
   "source": [
    "cab_test.to_csv(\"submission.csv\")"
   ]
  }
 ],
 "metadata": {
  "kernelspec": {
   "display_name": "Python 3",
   "language": "python",
   "name": "python3"
  },
  "language_info": {
   "codemirror_mode": {
    "name": "ipython",
    "version": 3
   },
   "file_extension": ".py",
   "mimetype": "text/x-python",
   "name": "python",
   "nbconvert_exporter": "python",
   "pygments_lexer": "ipython3",
   "version": "3.7.3"
  }
 },
 "nbformat": 4,
 "nbformat_minor": 2
}
